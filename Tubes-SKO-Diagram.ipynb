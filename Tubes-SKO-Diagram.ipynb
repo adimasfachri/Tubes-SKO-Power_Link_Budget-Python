{
 "cells": [
  {
   "cell_type": "raw",
   "metadata": {},
   "source": [
    "Tubes SKO Kelompok 7\n",
    "\n",
    "Nama : 1. Adimas Fachri Ranunegoro (1101184289) \n",
    "       2. Aditya Fahrezantara (1101184504)\n",
    "       3. Muhammad Agy Ramdhan (1101184182)\n",
    "\n",
    "Kelas: TT-42-06\n",
    "\n",
    "===Program link to link budget Kabel FO=== "
   ]
  },
  {
   "cell_type": "code",
   "execution_count": 34,
   "metadata": {},
   "outputs": [],
   "source": [
    "from math import log10 as log\n",
    "from math import sqrt as akar\n",
    "import numpy as np\n",
    "import matplotlib.pyplot as plt"
   ]
  },
  {
   "cell_type": "code",
   "execution_count": 35,
   "metadata": {},
   "outputs": [],
   "source": [
    "# Kabel FO ............\n",
    "L = np.arange(1, 120, 1) #jarak STO (dalam KM)\n",
    "Hspel = 2 #jarak per check-point (dalam KM)\n",
    "dispersi_material = 17e-12 #tergantung spek kabel (dalam s/km.nm) (disp_M)\n",
    "redaman_fiber = 0.2 #berapa redaman (dalam dB/km) (alpha_f)"
   ]
  },
  {
   "cell_type": "code",
   "execution_count": 36,
   "metadata": {},
   "outputs": [],
   "source": [
    "# Pengirim\n",
    "daya_kirim_mw = 8 #berapa daya kirim dalam mw (ptx)\n",
    "daya_kirim_db = 10*log(daya_kirim_mw) #berapa daya kirim dalam db (ptx_db)\n",
    "lebar_spektral = 0.1 #lebar spektral (dalam nm)\n",
    "rise_time_tx = 35e-12 #rise time (dalam detik) (t_tx)\n",
    "modulasi_NRZ = 0.7 #NRZ\n",
    "modulasi_RZ = 0.35 #RZ\n",
    "bit_rate = 2.5e9 # contoh 1e9 = 1gbps (tergantung spesifikasi kabel)\n",
    "Tb = 1/bit_rate #waktu bit (dalam satu bit butuh berapa waktu (dalam detik))"
   ]
  },
  {
   "cell_type": "code",
   "execution_count": 37,
   "metadata": {},
   "outputs": [],
   "source": [
    "# Lanjut pengirim\n",
    "sensitivitas = -27 #(dalam dBm) \n",
    "rise_time_rx = 35e-12 #(dalam detik satuam pico (e-12)) (t_rx)\n"
   ]
  },
  {
   "cell_type": "code",
   "execution_count": 38,
   "metadata": {},
   "outputs": [],
   "source": [
    "# Redaman Kanal\n",
    "jumlah_connector = 2 #karena point to point\n",
    "redaman_per_point = 0.1 #berapa redaman dalam tiap checkpoint (db/titik) (alpha_c)\n",
    "jumlah_splice = (L/Hspel)-1 #(N_sp)\n",
    "redaman_per_point = 0.1 #db/titik (alpha_sp)\n",
    "margin_sistem = 3 #redaman tak terduga (berdasarkan lingkungan) (ms)\n"
   ]
  },
  {
   "cell_type": "markdown",
   "metadata": {},
   "source": [
    "# Link Power Budget (membandingkan daya)\n",
    "Hitung lost total\n",
    "$$\\alpha_T= 2\\alpha_c+N_{sp}\\alpha_{sp}+L\n",
    "\\alpha_f +M_s$$\n"
   ]
  },
  {
   "cell_type": "code",
   "execution_count": 39,
   "metadata": {},
   "outputs": [],
   "source": [
    "alpa_t = jumlah_connector*redaman_per_point+jumlah_splice*redaman_per_point+L*redaman_fiber+margin_sistem"
   ]
  },
  {
   "cell_type": "code",
   "execution_count": 40,
   "metadata": {},
   "outputs": [],
   "source": [
    "#daya terim (prx)\n",
    "prx = daya_kirim_db-alpa_t"
   ]
  },
  {
   "cell_type": "markdown",
   "metadata": {},
   "source": [
    "# Rise Time Budget (membandingkan dispersi)\n",
    "$$t_{sys}=\\sqrt{t_{tx}^2+t_{mat}^2+t_{mod}^2+t_{wg}^2+t_{rx}^2} $$"
   ]
  },
  {
   "cell_type": "code",
   "execution_count": 41,
   "metadata": {},
   "outputs": [
    {
     "name": "stdout",
     "output_type": "stream",
     "text": [
      "[4.95266595e-11 4.96141109e-11 4.97595217e-11 4.99623859e-11\n",
      " 5.02220071e-11 5.05375108e-11 5.09078579e-11 5.13318615e-11\n",
      " 5.18082040e-11 5.23354564e-11 5.29120969e-11 5.35365296e-11\n",
      " 5.42071029e-11 5.49221267e-11 5.56798886e-11 5.64786685e-11\n",
      " 5.73167515e-11 5.81924394e-11 5.91040608e-11 6.00499792e-11\n",
      " 6.10285999e-11 6.20383752e-11 6.30778091e-11 6.41454597e-11\n",
      " 6.52399418e-11 6.63599277e-11 6.75041480e-11 6.86713914e-11\n",
      " 6.98605039e-11 7.10703876e-11 7.23000000e-11 7.35483514e-11\n",
      " 7.48145039e-11 7.60975689e-11 7.73967054e-11 7.87111174e-11\n",
      " 8.00400525e-11 8.13827992e-11 8.27386850e-11 8.41070746e-11\n",
      " 8.54873675e-11 8.68789963e-11 8.82814250e-11 8.96941470e-11\n",
      " 9.11166834e-11 9.25485818e-11 9.39894143e-11 9.54387762e-11\n",
      " 9.68962848e-11 9.83615779e-11 9.98343127e-11 1.01314165e-10\n",
      " 1.02800827e-10 1.04294007e-10 1.05793431e-10 1.07298835e-10\n",
      " 1.08809972e-10 1.10326606e-10 1.11848514e-10 1.13375482e-10\n",
      " 1.14907310e-10 1.16443806e-10 1.17984787e-10 1.19530080e-10\n",
      " 1.21079519e-10 1.22632948e-10 1.24190217e-10 1.25751183e-10\n",
      " 1.27315710e-10 1.28883668e-10 1.30454935e-10 1.32029391e-10\n",
      " 1.33606923e-10 1.35187425e-10 1.36770794e-10 1.38356930e-10\n",
      " 1.39945739e-10 1.41537133e-10 1.43131024e-10 1.44727330e-10\n",
      " 1.46325972e-10 1.47926874e-10 1.49529964e-10 1.51135171e-10\n",
      " 1.52742430e-10 1.54351676e-10 1.55962848e-10 1.57575886e-10\n",
      " 1.59190735e-10 1.60807338e-10 1.62425645e-10 1.64045603e-10\n",
      " 1.65667166e-10 1.67290287e-10 1.68914919e-10 1.70541021e-10\n",
      " 1.72168551e-10 1.73797468e-10 1.75427734e-10 1.77059312e-10\n",
      " 1.78692165e-10 1.80326260e-10 1.81961562e-10 1.83598039e-10\n",
      " 1.85235661e-10 1.86874396e-10 1.88514217e-10 1.90155095e-10\n",
      " 1.91797002e-10 1.93439913e-10 1.95083803e-10 1.96728646e-10\n",
      " 1.98374419e-10 2.00021099e-10 2.01668664e-10 2.03317092e-10\n",
      " 2.04966363e-10 2.06616456e-10 2.08267352e-10]\n"
     ]
    }
   ],
   "source": [
    "t_material = dispersi_material*L*lebar_spektral\n",
    "t_wg = 0 #diabaikan\n",
    "t_mod = 0 # 0 karena menggunakan SM (single mode)\n",
    "t_sys = np.sqrt((rise_time_tx**2)+(t_material**2)+(t_mod**2)+(t_wg**2)+rise_time_rx**2)\n",
    "print(t_sys)\n"
   ]
  },
  {
   "cell_type": "code",
   "execution_count": 42,
   "metadata": {},
   "outputs": [
    {
     "data": {
      "text/plain": [
       "Text(0.5, 1.0, 'Kurva link power budget')"
      ]
     },
     "execution_count": 42,
     "metadata": {},
     "output_type": "execute_result"
    },
    {
     "data": {
      "image/png": "[encoded data removed]",
      "text/plain": [
       "<Figure size 432x288 with 1 Axes>"
      ]
     },
     "metadata": {
      "needs_background": "light"
     },
     "output_type": "display_data"
    }
   ],
   "source": [
    "#Kurva link power budget\n",
    "plt.plot(L,prx)\n",
    "plt.xlabel(\"Jarak (km)\")\n",
    "plt.ylabel(\"Daya terima (dBm)\")\n",
    "plt.title(\"Kurva link power budget\")\n"
   ]
  },
  {
   "cell_type": "code",
   "execution_count": 43,
   "metadata": {},
   "outputs": [
    {
     "data": {
      "text/plain": [
       "Text(0.5, 1.0, 'kurva RTB')"
      ]
     },
     "execution_count": 43,
     "metadata": {},
     "output_type": "execute_result"
    },
    {
     "data": {
      "image/png": "[encoded data removed]",
      "text/plain": [
       "<Figure size 432x288 with 1 Axes>"
      ]
     },
     "metadata": {
      "needs_background": "light"
     },
     "output_type": "display_data"
    }
   ],
   "source": [
    "plt.plot(L, t_sys)\n",
    "plt.xlabel(\"Jarak (km)\")\n",
    "plt.ylabel(\"Dispersi (s)\")\n",
    "plt.title(\"kurva RTB\")"
   ]
  },
  {
   "cell_type": "code",
   "execution_count": null,
   "metadata": {},
   "outputs": [],
   "source": []
  },
  {
   "cell_type": "code",
   "execution_count": null,
   "metadata": {},
   "outputs": [],
   "source": []
  }
 ],
 "metadata": {
  "kernelspec": {
   "display_name": "Python 3",
   "language": "python",
   "name": "python3"
  },
  "language_info": {
   "codemirror_mode": {
    "name": "ipython",
    "version": 3
   },
   "file_extension": ".py",
   "mimetype": "text/x-python",
   "name": "python",
   "nbconvert_exporter": "python",
   "pygments_lexer": "ipython3",
   "version": "3.7.4"
  }
 },
 "nbformat": 4,
 "nbformat_minor": 2
}
