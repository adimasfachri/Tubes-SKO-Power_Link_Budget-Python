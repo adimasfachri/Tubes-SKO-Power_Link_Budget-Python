{
 "cells": [
  {
   "cell_type": "raw",
   "metadata": {},
   "source": [
    "Tubes SKO Kelompok 7\n",
    "\n",
    "Nama : 1. Adimas Fachri Ranunegoro (1101184289) \n",
    "       2. Aditya Fahrezantara (1101184504)\n",
    "       3. Muhammad Agy Ramdhan (1101184182)\n",
    "\n",
    "Kelas: TT-42-06\n",
    "\n",
    "===Program link to link budget Kabel FO=== "
   ]
  },
  {
   "cell_type": "code",
   "execution_count": 31,
   "metadata": {},
   "outputs": [],
   "source": [
    "from math import log10 as log\n",
    "from math import sqrt as akar"
   ]
  },
  {
   "cell_type": "code",
   "execution_count": 36,
   "metadata": {},
   "outputs": [],
   "source": [
    "# Kabel FO ............\n",
    "L = 10 #jarak STO (dalam KM)\n",
    "Hspel = 1 #jarak per check-point (dalam KM)\n",
    "dispersi_material = 1 #tergantung spek kabel (dalam s/km.nm) (disp_M)\n",
    "redaman_fiber = 1 #berapa redaman (dalam dB/km) (alpha_f)"
   ]
  },
  {
   "cell_type": "code",
   "execution_count": 37,
   "metadata": {},
   "outputs": [],
   "source": [
    "# Pengirim\n",
    "daya_kirim_mw = 1 #berapa daya kirim dalam mw (ptx)\n",
    "daya_kirim_db = 10*log(daya_kirim_mw) #berapa daya kirim dalam db (ptx_db)\n",
    "lebar_spektral = 1 #lebar spektral (dalam nm)\n",
    "rise_time_tx = 1 #rise time (dalam detik) (t_tx)\n",
    "modulasi_NRZ = 1 #NRZ\n",
    "modulasi_RZ = 1 #RZ\n",
    "bit_rate = 1 # contoh 1e9 = 1gbps (tergantung spesifikasi kabel)\n",
    "Tb = 1/bit_rate #waktu bit (dalam satu bit butuh berapa waktu (dalam detik))"
   ]
  },
  {
   "cell_type": "code",
   "execution_count": 38,
   "metadata": {},
   "outputs": [],
   "source": [
    "# Lanjut pengirim\n",
    "sensitivitas = 1 #(dalam dBm) \n",
    "rise_time_rx = 1 #(dalam detik satuam pico (e-12)) (t_rx)\n"
   ]
  },
  {
   "cell_type": "code",
   "execution_count": 39,
   "metadata": {},
   "outputs": [],
   "source": [
    "# Redaman Kanal\n",
    "jumlah_connector = 2 #karena point to point\n",
    "redaman_per_point = 1 #berapa redaman dalam tiap checkpoint (db/titik) (alpha_c)\n",
    "jumlah_splice = (L/Hspel)-1 #(N_sp)\n",
    "redaman_per_point = 1 #db/titik (alpha_sp)\n",
    "margin_sistem = 1 #redaman tak terduga (berdasarkan lingkungan) (ms)\n"
   ]
  },
  {
   "cell_type": "markdown",
   "metadata": {},
   "source": [
    "# Link Power Budget (membandingkan daya)\n",
    "Hitung lost total\n",
    "$$\\alpha_T= 2\\alpha_c+N_{sp}\\alpha_{sp}+L\n",
    "\\alpha_f +M_s$$\n"
   ]
  },
  {
   "cell_type": "code",
   "execution_count": 40,
   "metadata": {},
   "outputs": [
    {
     "name": "stdout",
     "output_type": "stream",
     "text": [
      "Redaman Kabel  22.0 db\n"
     ]
    }
   ],
   "source": [
    "alpa_t = jumlah_connector*redaman_per_point+jumlah_splice*redaman_per_point+L*redaman_fiber+margin_sistem\n",
    "print(\"Redaman Kabel \",alpa_t, \"db\")"
   ]
  },
  {
   "cell_type": "code",
   "execution_count": 41,
   "metadata": {},
   "outputs": [
    {
     "name": "stdout",
     "output_type": "stream",
     "text": [
      "-22.0\n"
     ]
    }
   ],
   "source": [
    "#daya terim (prx)\n",
    "prx = daya_kirim_db-alpa_t\n",
    "print(prx)"
   ]
  },
  {
   "cell_type": "code",
   "execution_count": 42,
   "metadata": {},
   "outputs": [
    {
     "name": "stdout",
     "output_type": "stream",
     "text": [
      "Hitung ulang\n"
     ]
    }
   ],
   "source": [
    "if prx > sensitivitas:\n",
    "    print(\"LPB, terpenuhi\")\n",
    "else :\n",
    "    print(\"Hitung ulang\")"
   ]
  },
  {
   "cell_type": "markdown",
   "metadata": {},
   "source": [
    "# Rise Time Budget (membandingkan dispersi)\n",
    "$$t_{sys}=\\sqrt{t_{tx}^2+t_{mat}^2+t_{mod}^2+t_{wg}^2+t_{rx}^2} $$"
   ]
  },
  {
   "cell_type": "code",
   "execution_count": 43,
   "metadata": {},
   "outputs": [
    {
     "name": "stdout",
     "output_type": "stream",
     "text": [
      "10.198039027185569\n"
     ]
    }
   ],
   "source": [
    "t_material = dispersi_material*L*lebar_spektral\n",
    "t_wg = 1 #diabaikan\n",
    "t_mod = 1 # 0 karena menggunakan SM (single mode)\n",
    "t_sys = akar((rise_time_tx**2)+(t_material**2)+(t_mod**2)+(t_wg**2)+rise_time_rx**2)\n",
    "print(t_sys)\n"
   ]
  },
  {
   "cell_type": "code",
   "execution_count": 44,
   "metadata": {},
   "outputs": [
    {
     "name": "stdout",
     "output_type": "stream",
     "text": [
      "Hitung Ulang !\n"
     ]
    }
   ],
   "source": [
    "if (Tb*modulasi_NRZ > t_sys) and (Tb*modulasi_RZ > t_sys):\n",
    "    print(\"RTB, terpenuhi\")\n",
    "elif (Tb*modulasi_NRZ > t_sys):\n",
    "    print(\"RTB untuk NRZ, terpenuhi\")\n",
    "elif (Tb*modulasi_RZ > t_sys):\n",
    "    prin(\"RTB untuk RZ, terpenuhi\")\n",
    "else:\n",
    "    print(\"Hitung Ulang !\")"
   ]
  },
  {
   "cell_type": "code",
   "execution_count": null,
   "metadata": {},
   "outputs": [],
   "source": []
  },
  {
   "cell_type": "code",
   "execution_count": null,
   "metadata": {},
   "outputs": [],
   "source": []
  },
  {
   "cell_type": "code",
   "execution_count": null,
   "metadata": {},
   "outputs": [],
   "source": []
  }
 ],
 "metadata": {
  "kernelspec": {
   "display_name": "Python 3",
   "language": "python",
   "name": "python3"
  },
  "language_info": {
   "codemirror_mode": {
    "name": "ipython",
    "version": 3
   },
   "file_extension": ".py",
   "mimetype": "text/x-python",
   "name": "python",
   "nbconvert_exporter": "python",
   "pygments_lexer": "ipython3",
   "version": "3.7.4"
  }
 },
 "nbformat": 4,
 "nbformat_minor": 2
}
